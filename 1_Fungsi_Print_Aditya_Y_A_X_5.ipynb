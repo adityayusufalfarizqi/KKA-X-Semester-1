{
  "nbformat": 4,
  "nbformat_minor": 0,
  "metadata": {
    "colab": {
      "provenance": [],
      "authorship_tag": "ABX9TyPGfG9gRMu7sXvc0/vGm7ti",
      "include_colab_link": true
    },
    "kernelspec": {
      "name": "python3",
      "display_name": "Python 3"
    },
    "language_info": {
      "name": "python"
    }
  },
  "cells": [
    {
      "cell_type": "markdown",
      "metadata": {
        "id": "view-in-github",
        "colab_type": "text"
      },
      "source": [
        "<a href=\"https://colab.research.google.com/github/adityayusufalfarizqi/KKA-X-Semester-1/blob/main/1_Fungsi_Print_Aditya_Y_A_X_5.ipynb\" target=\"_parent\"><img src=\"https://colab.research.google.com/assets/colab-badge.svg\" alt=\"Open In Colab\"/></a>"
      ]
    },
    {
      "cell_type": "markdown",
      "source": [
        "#1. Menampilkan Teks Bebas"
      ],
      "metadata": {
        "id": "ryzoE_iWgLe7"
      }
    },
    {
      "cell_type": "code",
      "execution_count": null,
      "metadata": {
        "id": "NOn3MR9DeHOs",
        "colab": {
          "base_uri": "https://localhost:8080/"
        },
        "outputId": "8f6697d8-e156-43f6-b02b-6ec0dfcef490"
      },
      "outputs": [
        {
          "output_type": "stream",
          "name": "stdout",
          "text": [
            "Halo Dunia!\n"
          ]
        }
      ],
      "source": [
        "print(\"Halo Dunia!\")"
      ]
    },
    {
      "cell_type": "code",
      "source": [
        "print(\"Aditya Yusuf Alfarizqi\")"
      ],
      "metadata": {
        "colab": {
          "base_uri": "https://localhost:8080/"
        },
        "id": "1t0wVG99ivZF",
        "outputId": "c08c2223-55bd-4cb9-9dfc-5ff4b0e7c59e"
      },
      "execution_count": null,
      "outputs": [
        {
          "output_type": "stream",
          "name": "stdout",
          "text": [
            "Aditya Yusuf Alfarizqi\n"
          ]
        }
      ]
    },
    {
      "cell_type": "markdown",
      "source": [
        "#2. Menampilkan Nilai Variabel"
      ],
      "metadata": {
        "id": "NYFdYFQfkE50"
      }
    },
    {
      "cell_type": "code",
      "source": [
        "beratbadan= 45\n",
        "print(beratbadan)"
      ],
      "metadata": {
        "colab": {
          "base_uri": "https://localhost:8080/"
        },
        "id": "if7HqPtBlJDc",
        "outputId": "7feae908-2ad7-4512-d148-cee9bfede3d6"
      },
      "execution_count": null,
      "outputs": [
        {
          "output_type": "stream",
          "name": "stdout",
          "text": [
            "45\n"
          ]
        }
      ]
    },
    {
      "cell_type": "code",
      "source": [
        "nama= \"Aditya Yusuf Alfarizqi\"\n",
        "print(nama)"
      ],
      "metadata": {
        "colab": {
          "base_uri": "https://localhost:8080/"
        },
        "id": "XMol5pBSmk1H",
        "outputId": "1473c6e7-ee36-4a16-c58e-9ab1ed79630d"
      },
      "execution_count": null,
      "outputs": [
        {
          "output_type": "stream",
          "name": "stdout",
          "text": [
            "Aditya Yusuf Alfarizqi\n"
          ]
        }
      ]
    },
    {
      "cell_type": "markdown",
      "source": [
        "#3. Menampilkan Teks Bebas dan Nilai Variabel"
      ],
      "metadata": {
        "id": "bmOJtfIykTCj"
      }
    },
    {
      "cell_type": "code",
      "source": [
        "print(\"Halo nama Saya\", nama,\". Berat badan Saya\",beratbadan,\"kg.\")"
      ],
      "metadata": {
        "colab": {
          "base_uri": "https://localhost:8080/"
        },
        "id": "qqviEklXlg3I",
        "outputId": "5b6d8aa1-1e07-4aea-de89-ef7a844e0e03"
      },
      "execution_count": null,
      "outputs": [
        {
          "output_type": "stream",
          "name": "stdout",
          "text": [
            "Halo nama Saya Aditya Yusuf Alfarizqi . Berat badan Saya 45 kg.\n"
          ]
        }
      ]
    },
    {
      "cell_type": "code",
      "source": [
        "print(\"Halo nama Saya \"+ nama+\". Berat badan Saya \"+str(beratbadan)+\" kg.\")"
      ],
      "metadata": {
        "colab": {
          "base_uri": "https://localhost:8080/"
        },
        "id": "uUV1s5YhnvIN",
        "outputId": "eb5fdfd1-48a9-4b42-c35b-1fb8d858d345"
      },
      "execution_count": null,
      "outputs": [
        {
          "output_type": "stream",
          "name": "stdout",
          "text": [
            "Halo nama Saya Aditya Yusuf Alfarizqi. Berat badan Saya 45 kg.\n"
          ]
        }
      ]
    },
    {
      "cell_type": "code",
      "source": [
        "print(f\"Halo nama Saya {nama}. Berat badan Saya {beratbadan} kg.\")"
      ],
      "metadata": {
        "id": "i7mX5yeWquGk",
        "colab": {
          "base_uri": "https://localhost:8080/"
        },
        "outputId": "da75ec21-f8b5-478b-a51d-50a334bbc3f3"
      },
      "execution_count": null,
      "outputs": [
        {
          "output_type": "stream",
          "name": "stdout",
          "text": [
            "Halo nama Saya Aditya Yusuf Alfarizqi. Berat badan Saya 45 kg.\n"
          ]
        }
      ]
    },
    {
      "cell_type": "markdown",
      "source": [
        "#4. Escape Character"
      ],
      "metadata": {
        "id": "qa-FA78Qq7bi"
      }
    },
    {
      "cell_type": "code",
      "source": [
        "print(\"Nama: Aditya Yusuf Alfarizqi\")\n",
        "print(\"Kelas: X-5\")\n",
        "print(\"No. Absen: 2\")"
      ],
      "metadata": {
        "id": "JlmWpSyOrFws",
        "colab": {
          "base_uri": "https://localhost:8080/"
        },
        "outputId": "85af5f42-02b2-41bc-e05c-794e01b37496"
      },
      "execution_count": null,
      "outputs": [
        {
          "output_type": "stream",
          "name": "stdout",
          "text": [
            "Nama: Aditya Yusuf Alfarizqi\n",
            "Kelas: X-5\n",
            "No. Absen: 2\n"
          ]
        }
      ]
    },
    {
      "cell_type": "code",
      "source": [
        "print(\"Nama: Aditya Yusuf Alfarizqi\\nKelas: X-5\\nNo. Absen: 2\")"
      ],
      "metadata": {
        "colab": {
          "base_uri": "https://localhost:8080/"
        },
        "id": "8-YWjW6abWQc",
        "outputId": "76a0da07-5d13-4cc7-db02-d78863c89f28"
      },
      "execution_count": null,
      "outputs": [
        {
          "output_type": "stream",
          "name": "stdout",
          "text": [
            "Nama: Aditya Yusuf Alfarizqi\n",
            "Kelas: X-5\n",
            "No. Absen: 2\n"
          ]
        }
      ]
    },
    {
      "cell_type": "code",
      "source": [
        "print(\"\"\"Nama\\t\\t: Aditya Yusuf Alfarizqi\n",
        "Kelas\\t\\t: X-5\n",
        "No. Absen\\t: 2\"\"\")"
      ],
      "metadata": {
        "colab": {
          "base_uri": "https://localhost:8080/"
        },
        "id": "ri-hyFyWbvzv",
        "outputId": "b9e57931-ce0d-4b80-9b93-f5c40322f055"
      },
      "execution_count": null,
      "outputs": [
        {
          "output_type": "stream",
          "name": "stdout",
          "text": [
            "Nama\t\t: Aditya Yusuf Alfarizqi\n",
            "Kelas\t\t: X-5\n",
            "No. Absen\t: 2\n"
          ]
        }
      ]
    },
    {
      "cell_type": "code",
      "source": [
        "print ( 'Nama Saya Ja\\'far Shodiq' )"
      ],
      "metadata": {
        "colab": {
          "base_uri": "https://localhost:8080/"
        },
        "id": "vqGIKuDZfItJ",
        "outputId": "04accc2f-709d-4034-f24c-27414e38f747"
      },
      "execution_count": null,
      "outputs": [
        {
          "output_type": "stream",
          "name": "stdout",
          "text": [
            "Nama Saya Ja'far Shodiq\n"
          ]
        }
      ]
    },
    {
      "cell_type": "code",
      "source": [
        "print ( \"Nama Saya Ja'far Shodiq\" )"
      ],
      "metadata": {
        "colab": {
          "base_uri": "https://localhost:8080/"
        },
        "id": "9zyFfhzyfVzc",
        "outputId": "d81c9ec6-85d3-4c5e-f8bf-61a53043c0b7"
      },
      "execution_count": null,
      "outputs": [
        {
          "output_type": "stream",
          "name": "stdout",
          "text": [
            "Nama Saya Ja'far Shodiq\n"
          ]
        }
      ]
    },
    {
      "cell_type": "code",
      "source": [
        "print(\"Nama Saya Ja\\'far Shodiq\")"
      ],
      "metadata": {
        "colab": {
          "base_uri": "https://localhost:8080/"
        },
        "id": "boLS_auJfdio",
        "outputId": "e03093c4-22a8-41c8-ed9d-4eba220a4075"
      },
      "execution_count": null,
      "outputs": [
        {
          "output_type": "stream",
          "name": "stdout",
          "text": [
            "Nama Saya Ja'far Shodiq\n"
          ]
        }
      ]
    },
    {
      "cell_type": "code",
      "source": [
        "print('Bu Shinta berkata, \"Tolong perhatikan TV dan Saya.\"')"
      ],
      "metadata": {
        "colab": {
          "base_uri": "https://localhost:8080/"
        },
        "id": "ue18lROujSVm",
        "outputId": "bf16dfb6-d182-4cf2-b23d-764560d027eb"
      },
      "execution_count": null,
      "outputs": [
        {
          "output_type": "stream",
          "name": "stdout",
          "text": [
            "Bu Shinta berkata, \"Tolong perhatikan TV dan Saya.\"\n"
          ]
        }
      ]
    },
    {
      "cell_type": "code",
      "source": [
        "print(\"Bu Shinta berkata, \\\"Tolong perhatikan TV dan Saya.\\\"\")"
      ],
      "metadata": {
        "colab": {
          "base_uri": "https://localhost:8080/"
        },
        "id": "nX5znyBLjyaI",
        "outputId": "8552e23d-1bd2-44ab-8570-2783c366d3b4"
      },
      "execution_count": null,
      "outputs": [
        {
          "output_type": "stream",
          "name": "stdout",
          "text": [
            "Bu Shinta berkata, \"Tolong perhatikan TV dan Saya.\"\n"
          ]
        }
      ]
    },
    {
      "cell_type": "code",
      "source": [
        "print(\"Lokasi file tugas KKA ada di Local Disk C:\\\\KKA\\\\Tugas\")"
      ],
      "metadata": {
        "colab": {
          "base_uri": "https://localhost:8080/"
        },
        "id": "KS8Ok9cfkUIF",
        "outputId": "fdceb1ff-7036-4ac2-9b61-191a96daab31"
      },
      "execution_count": null,
      "outputs": [
        {
          "output_type": "stream",
          "name": "stdout",
          "text": [
            "Lokasi file tugas KKA ada di Local Disk C:\\KKA\\Tugas\n"
          ]
        }
      ]
    },
    {
      "cell_type": "code",
      "source": [
        "\n",
        "print(\"\"\"Bu Shinta berkata, \"Berikut adalah daftar piket harian kelas X.5\n",
        "yang disimpan di file D:\\\\MAN Demak\\\\Jadwal Piket.\".\"\"\")\n",
        "print(\"\\nSenin\\tSelasa\\tRabu\\nJielo\\tHasbi\\tNaufal\\nAzzam\\tAida\\tA'inun\")"
      ],
      "metadata": {
        "colab": {
          "base_uri": "https://localhost:8080/"
        },
        "id": "4gHDYIzR9o9M",
        "outputId": "62fb2012-5fe4-4950-a9aa-a12f12dd4b71"
      },
      "execution_count": null,
      "outputs": [
        {
          "output_type": "stream",
          "name": "stdout",
          "text": [
            "Bu Shinta berkata, \"Berikut adalah daftar piket harian kelas X.5\n",
            "yang disimpan di file D:\\MAN Demak\\Jadwal Piket.\".\n",
            "\n",
            "Senin\tSelasa\tRabu\n",
            "Jielo\tHasbi\tNaufal\n",
            "Azzam\tAida\tA'inun\n"
          ]
        }
      ]
    },
    {
      "cell_type": "markdown",
      "source": [
        "#Parameter Fungsi Print"
      ],
      "metadata": {
        "id": "vSIB90FKmm8T"
      }
    },
    {
      "cell_type": "code",
      "source": [
        "nama_siswa_1=\"Jielo\"\n",
        "nama_siswa_2=\"Aida\"\n",
        "nama_siswa_3=\"Dani\"\n",
        "\n",
        "print(nama_siswa_1,end=\"-\")\n",
        "print(nama_siswa_2,end=\"-\")\n",
        "print(nama_siswa_3)"
      ],
      "metadata": {
        "colab": {
          "base_uri": "https://localhost:8080/"
        },
        "id": "PJLtN2tKnUPH",
        "outputId": "2f9383a2-765e-47f8-df71-ad93b6007bb8"
      },
      "execution_count": null,
      "outputs": [
        {
          "output_type": "stream",
          "name": "stdout",
          "text": [
            "Jielo-Aida-Dani\n"
          ]
        }
      ]
    },
    {
      "cell_type": "code",
      "source": [
        "nama_siswa_1 =\"Jielo\"\n",
        "nama_siswa_2 =\"Aida\"\n",
        "nama_siswa_3 =\"Dani\"\n",
        "nama_siswa_4 =\"Nurul\""
      ],
      "metadata": {
        "id": "UabAvm7ZonpA"
      },
      "execution_count": null,
      "outputs": []
    },
    {
      "cell_type": "code",
      "source": [
        "print(nama_siswa_4,end=\"/\")\n",
        "print(nama_siswa_2,end=\"/\")\n",
        "print(nama_siswa_1,end=\"/\")\n",
        "print(nama_siswa_3)"
      ],
      "metadata": {
        "colab": {
          "base_uri": "https://localhost:8080/"
        },
        "id": "9uBlR9lWp1Xv",
        "outputId": "e4f44ba7-bf4c-4870-fc3f-dc8b4f5e643b"
      },
      "execution_count": null,
      "outputs": [
        {
          "output_type": "stream",
          "name": "stdout",
          "text": [
            "Nurul/Aida/Jielo/Dani\n"
          ]
        }
      ]
    },
    {
      "cell_type": "code",
      "source": [
        "nama_siswa_5=\"Hasbi\"\n",
        "nama_siswa_6=\"Habibi\"\n",
        "nama_siswa_7=\"Rendra\"\n",
        "nama_siswa_8=\"Naufal\"\n",
        "print(nama_siswa_8,nama_siswa_7,nama_siswa_5,nama_siswa_6,sep=\"-\")"
      ],
      "metadata": {
        "colab": {
          "base_uri": "https://localhost:8080/"
        },
        "id": "62fs-rOnqdv5",
        "outputId": "e5c888ab-650f-49ee-e364-ddb33b8869b3"
      },
      "execution_count": null,
      "outputs": [
        {
          "output_type": "stream",
          "name": "stdout",
          "text": [
            "Naufal-Rendra-Hasbi-Habibi\n"
          ]
        }
      ]
    },
    {
      "cell_type": "code",
      "source": [
        "nama_siswa_5=\"Hasbi\"\n",
        "nama_siswa_6=\"Habibi\"\n",
        "nama_siswa_7=\"Rendra\"\n",
        "nama_siswa_8=\"Naufal\""
      ],
      "metadata": {
        "id": "kwYK5ZW_qqhe"
      },
      "execution_count": null,
      "outputs": []
    },
    {
      "cell_type": "code",
      "source": [
        "print (nama_siswa_5,nama_siswa_8,nama_siswa_7,nama_siswa _6,nama_siswa_8,sep= \"*\" )\n",
        "print (nama_siswa_7,nama_siswa_6,nama_siswa_5,nama_siswa _7,nama_siswa_7,sep= \"-\" )"
      ],
      "metadata": {
        "colab": {
          "base_uri": "https://localhost:8080/"
        },
        "id": "ssVUZdurrOFt",
        "outputId": "9b150c9d-ccfe-4cfa-a746-74c6095e35c4"
      },
      "execution_count": null,
      "outputs": [
        {
          "output_type": "stream",
          "name": "stdout",
          "text": [
            "Hasbi*Naufal*Rendra*Habibi*Naufal\n",
            "Rendra-Habibi-Hasbi-Rendra-Rendra\n"
          ]
        }
      ]
    }
  ]
}